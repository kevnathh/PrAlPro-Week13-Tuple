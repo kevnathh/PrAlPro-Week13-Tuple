{
 "cells": [
  {
   "cell_type": "code",
   "execution_count": 1,
   "id": "61276f12-08e9-486f-860b-fc524c314d4a",
   "metadata": {},
   "outputs": [
    {
     "name": "stdout",
     "output_type": "stream",
     "text": [
      "(1, 2, 3, 4)\n"
     ]
    }
   ],
   "source": [
    "dataTuple = (1, 2, 3, 4)\n",
    "print(dataTuple)"
   ]
  },
  {
   "cell_type": "code",
   "execution_count": 15,
   "id": "51e79e38-93ed-45a6-a516-21cae62d4009",
   "metadata": {},
   "outputs": [
    {
     "name": "stdout",
     "output_type": "stream",
     "text": [
      "Tipe dataList: <class 'list'>\n",
      "Tipe dataTuple: <class 'tuple'>\n",
      "\n",
      "Jumlah sintaks dataList(list): 48\n",
      "Jumlah sintaks dataTuple(tuple): 35\n",
      "\n",
      "Besar data list: 104\n",
      "Besar data tuple: 80\n",
      "\n",
      "Kecepatan akses list: 0.1893506000051275\n",
      "Kecepatan akses tuple: 0.025448700005654246\n"
     ]
    }
   ],
   "source": [
    "import sys\n",
    "import timeit\n",
    "\n",
    "dataList = [1, 3, 5, 7, 9]\n",
    "dataTuple = (1, 3, 5, 7, 9)\n",
    "\n",
    "print('Tipe dataList:', type(dataList))\n",
    "print('Tipe dataTuple:', type(dataTuple))\n",
    "print()\n",
    "print('Jumlah sintaks dataList(list):', len(dir(dataList)))\n",
    "print('Jumlah sintaks dataTuple(tuple):', len(dir(dataTuple)))\n",
    "print()\n",
    "besarList = sys.getsizeof(dataList)\n",
    "besarTuple = sys.getsizeof(dataTuple)\n",
    "print('Besar data list:', besarList)\n",
    "print('Besar data tuple:', besarTuple)\n",
    "print()\n",
    "cepatList = timeit.timeit(stmt=f\"{dataList}\", number=1000000)\n",
    "cepatTuple = timeit.timeit(stmt=f\"{dataTuple}\", number=1000000)\n",
    "print('Kecepatan akses list:', cepatList)\n",
    "print('Kecepatan akses tuple:', cepatTuple)"
   ]
  },
  {
   "cell_type": "code",
   "execution_count": 17,
   "id": "d50bfe8e-cdff-4d1c-a7b5-2e6647379374",
   "metadata": {},
   "outputs": [
    {
     "name": "stdout",
     "output_type": "stream",
     "text": [
      "('Kevin', 'Nathanael', 'Hariyanto')\n",
      "('Ika', 'Gracia', 'Wulandari')\n",
      "()\n",
      "('Zamasi',)\n"
     ]
    }
   ],
   "source": [
    "tupleKurung = ('Kevin', 'Nathanael', 'Hariyanto')\n",
    "tupleTanpaKurung = 'Ika', 'Gracia', 'Wulandari'\n",
    "tupleKosong = ()\n",
    "tupleSatuData = ('Zamasi',)\n",
    "print(tupleKurung)\n",
    "print(tupleTanpaKurung)\n",
    "print(tupleKosong)\n",
    "print(tupleSatuData)"
   ]
  },
  {
   "cell_type": "code",
   "execution_count": 18,
   "id": "bf58251f-20de-4e11-ad1c-9741468a947c",
   "metadata": {},
   "outputs": [
    {
     "name": "stdout",
     "output_type": "stream",
     "text": [
      "Kevin\n",
      "Hariyanto\n"
     ]
    }
   ],
   "source": [
    "tuple = ('Kevin', 'Nathanael', 'Hariyanto')\n",
    "print(tuple[0])\n",
    "print(tuple[-1])"
   ]
  },
  {
   "cell_type": "code",
   "execution_count": 21,
   "id": "146a75e2-6b15-449e-9667-9208f6c3f295",
   "metadata": {},
   "outputs": [
    {
     "name": "stdout",
     "output_type": "stream",
     "text": [
      "(1, 2, 3, 4)\n",
      "(3, 4, 1, 2)\n"
     ]
    }
   ],
   "source": [
    "tupleA = (1, 2)\n",
    "tupleB = (3, 4)\n",
    "hasilGabungA = tupleA + tupleB\n",
    "hasilGabungB = tupleB + tupleA\n",
    "print(hasilGabungA)\n",
    "print(hasilGabungB)"
   ]
  },
  {
   "cell_type": "code",
   "execution_count": 1,
   "id": "b9b0fe66-b059-41a8-9328-a6d16876fa85",
   "metadata": {},
   "outputs": [
    {
     "name": "stdout",
     "output_type": "stream",
     "text": [
      "(5, 6, 5, 6, 5, 6)\n"
     ]
    }
   ],
   "source": [
    "tupleC = (5, 6)\n",
    "ulangiTuple = tupleC * 3\n",
    "print(ulangiTuple)"
   ]
  },
  {
   "cell_type": "code",
   "execution_count": 3,
   "id": "2385499e-82b3-4d42-9c62-a414ecd995bf",
   "metadata": {},
   "outputs": [
    {
     "name": "stdout",
     "output_type": "stream",
     "text": [
      "True\n",
      "True\n"
     ]
    }
   ],
   "source": [
    "cekTuple = ('Kevin', 'Cia')\n",
    "print('Cia' in cekTuple)\n",
    "print('Hariyanto' not in cekTuple)"
   ]
  },
  {
   "cell_type": "code",
   "execution_count": 5,
   "id": "f75a22a8-b9eb-40e9-a87b-1b5842419ad3",
   "metadata": {},
   "outputs": [
    {
     "name": "stdout",
     "output_type": "stream",
     "text": [
      "Kepin\n"
     ]
    }
   ],
   "source": [
    "nestedTuple = ('Kevin', ('Kepin', 'Kevnath'), ('Kev', 'Vin'))\n",
    "print(nestedTuple[1][0])"
   ]
  },
  {
   "cell_type": "code",
   "execution_count": 7,
   "id": "d40b1644-a605-4aa6-bb86-7b33844611e4",
   "metadata": {},
   "outputs": [
    {
     "name": "stdout",
     "output_type": "stream",
     "text": [
      "Kevin Nathanael Hariyanto\n"
     ]
    }
   ],
   "source": [
    "nilaiTuple = ('Kevin', 'Nathanael', 'Hariyanto')\n",
    "a, b, c = nilaiTuple\n",
    "print(a, b, c)\n"
   ]
  },
  {
   "cell_type": "code",
   "execution_count": 9,
   "id": "82b9e3e4-a37a-43b1-9a46-c757819213c9",
   "metadata": {},
   "outputs": [
    {
     "name": "stdout",
     "output_type": "stream",
     "text": [
      "Ika\n",
      "['Gracia', 'Wulandari', 'Zamasi']\n"
     ]
    }
   ],
   "source": [
    "angka = ('Ika', 'Gracia', 'Wulandari', 'Zamasi')\n",
    "a, *b = angka\n",
    "print(a)\n",
    "print(b)"
   ]
  },
  {
   "cell_type": "code",
   "execution_count": 10,
   "id": "04291db8-0005-4a4c-b75c-8079fcb9db85",
   "metadata": {},
   "outputs": [
    {
     "name": "stdout",
     "output_type": "stream",
     "text": [
      "4\n",
      "2\n",
      "3\n"
     ]
    }
   ],
   "source": [
    "angka = (1, 2, 2, 3)\n",
    "print(len(angka))\n",
    "print(angka.count(2))\n",
    "print(angka.index(3))"
   ]
  },
  {
   "cell_type": "code",
   "execution_count": 14,
   "id": "551e307a-0440-4b94-be84-c292585afb25",
   "metadata": {},
   "outputs": [
    {
     "name": "stdout",
     "output_type": "stream",
     "text": [
      "['Kepin', 'Nathanael', 'Hariyanto']\n"
     ]
    },
    {
     "ename": "TypeError",
     "evalue": "'tuple' object does not support item assignment",
     "output_type": "error",
     "traceback": [
      "\u001b[31m---------------------------------------------------------------------------\u001b[39m",
      "\u001b[31mTypeError\u001b[39m                                 Traceback (most recent call last)",
      "\u001b[36mCell\u001b[39m\u001b[36m \u001b[39m\u001b[32mIn[14]\u001b[39m\u001b[32m, line 6\u001b[39m\n\u001b[32m      3\u001b[39m \u001b[38;5;28mprint\u001b[39m(iniList)\n\u001b[32m      5\u001b[39m iniTuple = (\u001b[33m'\u001b[39m\u001b[33mIka\u001b[39m\u001b[33m'\u001b[39m, \u001b[33m'\u001b[39m\u001b[33mGracia\u001b[39m\u001b[33m'\u001b[39m, \u001b[33m'\u001b[39m\u001b[33mWulandari\u001b[39m\u001b[33m'\u001b[39m, \u001b[33m'\u001b[39m\u001b[33mZamasi\u001b[39m\u001b[33m'\u001b[39m)\n\u001b[32m----> \u001b[39m\u001b[32m6\u001b[39m \u001b[43miniTuple\u001b[49m\u001b[43m[\u001b[49m\u001b[32;43m0\u001b[39;49m\u001b[43m]\u001b[49m = \u001b[33m'\u001b[39m\u001b[33mCia\u001b[39m\u001b[33m'\u001b[39m\n\u001b[32m      7\u001b[39m \u001b[38;5;28mprint\u001b[39m(iniTuple)\n",
      "\u001b[31mTypeError\u001b[39m: 'tuple' object does not support item assignment"
     ]
    }
   ],
   "source": [
    "iniList = ['Kevin', 'Nathanael', 'Hariyanto']\n",
    "iniList[0] = 'Kepin'\n",
    "print(iniList)\n",
    "\n",
    "iniTuple = ('Ika', 'Gracia', 'Wulandari', 'Zamasi')\n",
    "iniTuple[0] = 'Cia'\n",
    "print(iniTuple)"
   ]
  },
  {
   "cell_type": "code",
   "execution_count": 16,
   "id": "ea7c59f8-f779-45b3-aa69-fe76be662d77",
   "metadata": {},
   "outputs": [
    {
     "name": "stdout",
     "output_type": "stream",
     "text": [
      "10 20\n"
     ]
    }
   ],
   "source": [
    "def tampilkanData(data):\n",
    "    a, b = data\n",
    "    print(a, b)\n",
    "\n",
    "tampilkanData((10, 20))"
   ]
  },
  {
   "cell_type": "code",
   "execution_count": 17,
   "id": "83e390f5-02c8-4196-8f4a-082ade688c3d",
   "metadata": {},
   "outputs": [
    {
     "name": "stdout",
     "output_type": "stream",
     "text": [
      "Tujuan\n"
     ]
    }
   ],
   "source": [
    "lokasi = {(0, 0): 'Asal', (1, 2): 'Tujuan'}\n",
    "print(lokasi[(1, 2)])"
   ]
  },
  {
   "cell_type": "code",
   "execution_count": 19,
   "id": "4ef63359-be0b-4a40-ae41-6c99d885dccd",
   "metadata": {},
   "outputs": [
    {
     "name": "stdout",
     "output_type": "stream",
     "text": [
      "(0, 1, 2, 3, 4, 5, 6, 7, 8, 9, 10)\n"
     ]
    }
   ],
   "source": [
    "hasil = tuple(x for x in range(10+1))\n",
    "print(hasil)"
   ]
  },
  {
   "cell_type": "code",
   "execution_count": null,
   "id": "c0463439-34da-40f0-904d-ad35247fc4cd",
   "metadata": {},
   "outputs": [],
   "source": []
  }
 ],
 "metadata": {
  "kernelspec": {
   "display_name": "Python 3 (ipykernel)",
   "language": "python",
   "name": "python3"
  },
  "language_info": {
   "codemirror_mode": {
    "name": "ipython",
    "version": 3
   },
   "file_extension": ".py",
   "mimetype": "text/x-python",
   "name": "python",
   "nbconvert_exporter": "python",
   "pygments_lexer": "ipython3",
   "version": "3.13.2"
  }
 },
 "nbformat": 4,
 "nbformat_minor": 5
}
