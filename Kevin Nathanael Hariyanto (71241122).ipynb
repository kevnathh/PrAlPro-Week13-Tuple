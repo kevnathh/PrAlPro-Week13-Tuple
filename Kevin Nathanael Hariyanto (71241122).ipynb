{
 "cells": [
  {
   "cell_type": "code",
   "execution_count": 1,
   "id": "fe8db069-f2c7-4fab-99d3-31248aad9c6e",
   "metadata": {},
   "outputs": [
    {
     "name": "stdout",
     "output_type": "stream",
     "text": [
      "True\n",
      "False\n"
     ]
    }
   ],
   "source": [
    "# latihan soal 1\n",
    "\n",
    "def tupleSama(tup):\n",
    "    for i in tup:\n",
    "        sama = 0\n",
    "        cek = i\n",
    "        for j in tup:\n",
    "            if cek == j:\n",
    "                sama += 1\n",
    "        if sama == len(tup):\n",
    "            print(True)\n",
    "            break\n",
    "        else:\n",
    "            print(False)\n",
    "            break\n",
    "\n",
    "tA= (90, 90, 90, 90)\n",
    "tupleSama(tA)\n",
    "\n",
    "tA= (80, 10, 90, 70)\n",
    "tupleSama(tA)"
   ]
  },
  {
   "cell_type": "code",
   "execution_count": 2,
   "id": "9222cdfb-c7f7-4789-b59c-b3894e42e145",
   "metadata": {},
   "outputs": [
    {
     "name": "stdout",
     "output_type": "stream",
     "text": [
      "Data: ('Kevin Nathanael Hariyanto', '71241122', 'Sleman, Yogyakarta') \n",
      "\n",
      "NIM\t: 71241122\n",
      "NAMA\t: Kevin Nathanael Hariyanto\n",
      "ALAMAT\t: Sleman, Yogyakarta \n",
      "\n",
      "NIM: ('7', '1', '2', '4', '1', '1', '2', '2') \n",
      "\n",
      "NAMA DEPAN: ('K', 'e', 'v', 'i', 'n') \n",
      "\n",
      "NAMA TERBALIK: ('Hariyanto', 'Nathanael', 'Kevin')\n"
     ]
    }
   ],
   "source": [
    "# latihan soal 2\n",
    "\n",
    "def nim_nama_alamat(tup):\n",
    "    namaLengkap = tup[0]\n",
    "    nim = tup[1]\n",
    "    alamat = tup[2]\n",
    "\n",
    "    print(\"Data:\", data, '\\n')\n",
    "    \n",
    "    print(\"NIM\\t:\", nim)\n",
    "    print('NAMA\\t:', namaLengkap)\n",
    "    print('ALAMAT\\t:', alamat, '\\n')\n",
    "\n",
    "    namaLengkap = namaLengkap.split()\n",
    "    \n",
    "    print('NIM:', tuple(nim), '\\n')\n",
    "    print('NAMA DEPAN:', tuple(namaLengkap[0]), '\\n')\n",
    "\n",
    "    namaLengkap.reverse()\n",
    "    print('NAMA TERBALIK:', tuple(namaLengkap))\n",
    "\n",
    "data = (\"Kevin Nathanael Hariyanto\", '71241122', 'Sleman, Yogyakarta')\n",
    "nim_nama_alamat(data)"
   ]
  },
  {
   "cell_type": "code",
   "execution_count": 3,
   "id": "6de90159-fdf2-4457-b0fd-3e67e73e23b2",
   "metadata": {},
   "outputs": [
    {
     "name": "stdin",
     "output_type": "stream",
     "text": [
      "Enter a file name:  mbox-short.txt\n"
     ]
    },
    {
     "name": "stdout",
     "output_type": "stream",
     "text": [
      "04 3\n",
      "06 1\n",
      "07 1\n",
      "09 2\n",
      "10 3\n",
      "11 6\n",
      "14 1\n",
      "15 2\n",
      "16 4\n",
      "17 2\n",
      "18 1\n",
      "19 1\n"
     ]
    }
   ],
   "source": [
    "# latihan soal 3\n",
    "\n",
    "namaFile = str(input(\"Enter a file name: \"))\n",
    "handle = open(namaFile)\n",
    "dict = {}\n",
    "\n",
    "for line in handle:\n",
    "    if line.startswith(\"From \"):\n",
    "        pisah = line.split()\n",
    "        waktu = pisah[5]\n",
    "        waktuPisah = waktu.split(\":\")\n",
    "        \n",
    "        if waktuPisah[0] not in dict:\n",
    "            dict[waktuPisah[0]] = 1\n",
    "        else:\n",
    "            dict[waktuPisah[0]] += 1\n",
    "\n",
    "print(\"\\n\".join([f\"{x} {dict[x]}\" for x in sorted(dict)]))"
   ]
  },
  {
   "cell_type": "code",
   "execution_count": null,
   "id": "88e2627e-f31d-44e6-84c2-53ead0de91f3",
   "metadata": {},
   "outputs": [],
   "source": []
  }
 ],
 "metadata": {
  "kernelspec": {
   "display_name": "Python 3 (ipykernel)",
   "language": "python",
   "name": "python3"
  },
  "language_info": {
   "codemirror_mode": {
    "name": "ipython",
    "version": 3
   },
   "file_extension": ".py",
   "mimetype": "text/x-python",
   "name": "python",
   "nbconvert_exporter": "python",
   "pygments_lexer": "ipython3",
   "version": "3.13.2"
  }
 },
 "nbformat": 4,
 "nbformat_minor": 5
}
